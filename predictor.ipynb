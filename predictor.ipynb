{
 "cells": [
  {
   "cell_type": "code",
   "execution_count": 2,
   "metadata": {},
   "outputs": [],
   "source": [
    "import pandas as pd\n",
    "import numpy as np\n",
    "from matplotlib import pyplot as plt\n",
    "from sklearn.model_selection import train_test_split\n",
    "import tensorflow as tf\n",
    "from tensorflow.keras.models import Model, Sequential\n",
    "from tensorflow.keras.callbacks import EarlyStopping\n",
    "from tensorflow.keras.metrics import mae\n",
    "from tensorflow.keras import layers\n",
    "from tensorflow import keras\n",
    "from sklearn.metrics import accuracy_score, recall_score, precision_score, confusion_matrix, f1_score, classification_report\n",
    "import os"
   ]
  },
  {
   "cell_type": "markdown",
   "metadata": {},
   "source": [
    "# PTBD"
   ]
  },
  {
   "cell_type": "markdown",
   "metadata": {},
   "source": [
    "# EDA"
   ]
  },
  {
   "cell_type": "code",
   "execution_count": 3,
   "metadata": {},
   "outputs": [],
   "source": [
    "normal = pd.read_csv('ptbdb_normal.csv')\n",
    "abnormal = pd.read_csv('ptbdb_abnormal.csv')"
   ]
  },
  {
   "cell_type": "code",
   "execution_count": 4,
   "metadata": {},
   "outputs": [
    {
     "name": "stdout",
     "output_type": "stream",
     "text": [
      "Data set shape is  (10505, 188)\n"
     ]
    },
    {
     "data": {
      "text/html": [
       "<div>\n",
       "<style scoped>\n",
       "    .dataframe tbody tr th:only-of-type {\n",
       "        vertical-align: middle;\n",
       "    }\n",
       "\n",
       "    .dataframe tbody tr th {\n",
       "        vertical-align: top;\n",
       "    }\n",
       "\n",
       "    .dataframe thead th {\n",
       "        text-align: right;\n",
       "    }\n",
       "</style>\n",
       "<table border=\"1\" class=\"dataframe\">\n",
       "  <thead>\n",
       "    <tr style=\"text-align: right;\">\n",
       "      <th></th>\n",
       "      <th>1.000000000000000000e+00</th>\n",
       "      <th>9.003241658210754395e-01</th>\n",
       "      <th>3.585899472236633301e-01</th>\n",
       "      <th>5.145867168903350830e-02</th>\n",
       "      <th>4.659643396735191345e-02</th>\n",
       "      <th>1.268233358860015869e-01</th>\n",
       "      <th>1.333063244819641113e-01</th>\n",
       "      <th>1.191247999668121338e-01</th>\n",
       "      <th>1.106158867478370667e-01</th>\n",
       "      <th>1.130470037460327148e-01</th>\n",
       "      <th>...</th>\n",
       "      <th>0.000000000000000000e+00.56</th>\n",
       "      <th>0.000000000000000000e+00.57</th>\n",
       "      <th>0.000000000000000000e+00.58</th>\n",
       "      <th>0.000000000000000000e+00.59</th>\n",
       "      <th>0.000000000000000000e+00.60</th>\n",
       "      <th>0.000000000000000000e+00.61</th>\n",
       "      <th>0.000000000000000000e+00.62</th>\n",
       "      <th>0.000000000000000000e+00.63</th>\n",
       "      <th>0.000000000000000000e+00.64</th>\n",
       "      <th>0.000000000000000000e+00.65</th>\n",
       "    </tr>\n",
       "  </thead>\n",
       "  <tbody>\n",
       "    <tr>\n",
       "      <th>0</th>\n",
       "      <td>1.000000</td>\n",
       "      <td>0.794681</td>\n",
       "      <td>0.375387</td>\n",
       "      <td>0.116883</td>\n",
       "      <td>0.000000</td>\n",
       "      <td>0.171923</td>\n",
       "      <td>0.283859</td>\n",
       "      <td>0.293754</td>\n",
       "      <td>0.325912</td>\n",
       "      <td>0.345083</td>\n",
       "      <td>...</td>\n",
       "      <td>0.0</td>\n",
       "      <td>0.0</td>\n",
       "      <td>0.0</td>\n",
       "      <td>0.0</td>\n",
       "      <td>0.0</td>\n",
       "      <td>0.0</td>\n",
       "      <td>0.0</td>\n",
       "      <td>0.0</td>\n",
       "      <td>0.0</td>\n",
       "      <td>0.0</td>\n",
       "    </tr>\n",
       "    <tr>\n",
       "      <th>1</th>\n",
       "      <td>0.909029</td>\n",
       "      <td>0.791482</td>\n",
       "      <td>0.423169</td>\n",
       "      <td>0.186712</td>\n",
       "      <td>0.000000</td>\n",
       "      <td>0.007836</td>\n",
       "      <td>0.063032</td>\n",
       "      <td>0.077002</td>\n",
       "      <td>0.074957</td>\n",
       "      <td>0.077342</td>\n",
       "      <td>...</td>\n",
       "      <td>0.0</td>\n",
       "      <td>0.0</td>\n",
       "      <td>0.0</td>\n",
       "      <td>0.0</td>\n",
       "      <td>0.0</td>\n",
       "      <td>0.0</td>\n",
       "      <td>0.0</td>\n",
       "      <td>0.0</td>\n",
       "      <td>0.0</td>\n",
       "      <td>0.0</td>\n",
       "    </tr>\n",
       "    <tr>\n",
       "      <th>2</th>\n",
       "      <td>1.000000</td>\n",
       "      <td>0.478893</td>\n",
       "      <td>0.056760</td>\n",
       "      <td>0.064176</td>\n",
       "      <td>0.081289</td>\n",
       "      <td>0.072732</td>\n",
       "      <td>0.055619</td>\n",
       "      <td>0.048774</td>\n",
       "      <td>0.054478</td>\n",
       "      <td>0.041643</td>\n",
       "      <td>...</td>\n",
       "      <td>0.0</td>\n",
       "      <td>0.0</td>\n",
       "      <td>0.0</td>\n",
       "      <td>0.0</td>\n",
       "      <td>0.0</td>\n",
       "      <td>0.0</td>\n",
       "      <td>0.0</td>\n",
       "      <td>0.0</td>\n",
       "      <td>0.0</td>\n",
       "      <td>0.0</td>\n",
       "    </tr>\n",
       "    <tr>\n",
       "      <th>3</th>\n",
       "      <td>1.000000</td>\n",
       "      <td>0.867238</td>\n",
       "      <td>0.201360</td>\n",
       "      <td>0.099349</td>\n",
       "      <td>0.141336</td>\n",
       "      <td>0.120934</td>\n",
       "      <td>0.108516</td>\n",
       "      <td>0.096393</td>\n",
       "      <td>0.093436</td>\n",
       "      <td>0.100828</td>\n",
       "      <td>...</td>\n",
       "      <td>0.0</td>\n",
       "      <td>0.0</td>\n",
       "      <td>0.0</td>\n",
       "      <td>0.0</td>\n",
       "      <td>0.0</td>\n",
       "      <td>0.0</td>\n",
       "      <td>0.0</td>\n",
       "      <td>0.0</td>\n",
       "      <td>0.0</td>\n",
       "      <td>0.0</td>\n",
       "    </tr>\n",
       "    <tr>\n",
       "      <th>4</th>\n",
       "      <td>0.948983</td>\n",
       "      <td>0.505265</td>\n",
       "      <td>0.004176</td>\n",
       "      <td>0.022513</td>\n",
       "      <td>0.059550</td>\n",
       "      <td>0.107298</td>\n",
       "      <td>0.110385</td>\n",
       "      <td>0.111293</td>\n",
       "      <td>0.116558</td>\n",
       "      <td>0.118192</td>\n",
       "      <td>...</td>\n",
       "      <td>0.0</td>\n",
       "      <td>0.0</td>\n",
       "      <td>0.0</td>\n",
       "      <td>0.0</td>\n",
       "      <td>0.0</td>\n",
       "      <td>0.0</td>\n",
       "      <td>0.0</td>\n",
       "      <td>0.0</td>\n",
       "      <td>0.0</td>\n",
       "      <td>0.0</td>\n",
       "    </tr>\n",
       "  </tbody>\n",
       "</table>\n",
       "<p>5 rows × 188 columns</p>\n",
       "</div>"
      ],
      "text/plain": [
       "   1.000000000000000000e+00  9.003241658210754395e-01  \\\n",
       "0                  1.000000                  0.794681   \n",
       "1                  0.909029                  0.791482   \n",
       "2                  1.000000                  0.478893   \n",
       "3                  1.000000                  0.867238   \n",
       "4                  0.948983                  0.505265   \n",
       "\n",
       "   3.585899472236633301e-01  5.145867168903350830e-02  \\\n",
       "0                  0.375387                  0.116883   \n",
       "1                  0.423169                  0.186712   \n",
       "2                  0.056760                  0.064176   \n",
       "3                  0.201360                  0.099349   \n",
       "4                  0.004176                  0.022513   \n",
       "\n",
       "   4.659643396735191345e-02  1.268233358860015869e-01  \\\n",
       "0                  0.000000                  0.171923   \n",
       "1                  0.000000                  0.007836   \n",
       "2                  0.081289                  0.072732   \n",
       "3                  0.141336                  0.120934   \n",
       "4                  0.059550                  0.107298   \n",
       "\n",
       "   1.333063244819641113e-01  1.191247999668121338e-01  \\\n",
       "0                  0.283859                  0.293754   \n",
       "1                  0.063032                  0.077002   \n",
       "2                  0.055619                  0.048774   \n",
       "3                  0.108516                  0.096393   \n",
       "4                  0.110385                  0.111293   \n",
       "\n",
       "   1.106158867478370667e-01  1.130470037460327148e-01  ...  \\\n",
       "0                  0.325912                  0.345083  ...   \n",
       "1                  0.074957                  0.077342  ...   \n",
       "2                  0.054478                  0.041643  ...   \n",
       "3                  0.093436                  0.100828  ...   \n",
       "4                  0.116558                  0.118192  ...   \n",
       "\n",
       "   0.000000000000000000e+00.56  0.000000000000000000e+00.57  \\\n",
       "0                          0.0                          0.0   \n",
       "1                          0.0                          0.0   \n",
       "2                          0.0                          0.0   \n",
       "3                          0.0                          0.0   \n",
       "4                          0.0                          0.0   \n",
       "\n",
       "   0.000000000000000000e+00.58  0.000000000000000000e+00.59  \\\n",
       "0                          0.0                          0.0   \n",
       "1                          0.0                          0.0   \n",
       "2                          0.0                          0.0   \n",
       "3                          0.0                          0.0   \n",
       "4                          0.0                          0.0   \n",
       "\n",
       "   0.000000000000000000e+00.60  0.000000000000000000e+00.61  \\\n",
       "0                          0.0                          0.0   \n",
       "1                          0.0                          0.0   \n",
       "2                          0.0                          0.0   \n",
       "3                          0.0                          0.0   \n",
       "4                          0.0                          0.0   \n",
       "\n",
       "   0.000000000000000000e+00.62  0.000000000000000000e+00.63  \\\n",
       "0                          0.0                          0.0   \n",
       "1                          0.0                          0.0   \n",
       "2                          0.0                          0.0   \n",
       "3                          0.0                          0.0   \n",
       "4                          0.0                          0.0   \n",
       "\n",
       "   0.000000000000000000e+00.64  0.000000000000000000e+00.65  \n",
       "0                          0.0                          0.0  \n",
       "1                          0.0                          0.0  \n",
       "2                          0.0                          0.0  \n",
       "3                          0.0                          0.0  \n",
       "4                          0.0                          0.0  \n",
       "\n",
       "[5 rows x 188 columns]"
      ]
     },
     "execution_count": 4,
     "metadata": {},
     "output_type": "execute_result"
    }
   ],
   "source": [
    "print(\"Data set shape is \",abnormal.shape)\n",
    "normal.head()"
   ]
  },
  {
   "cell_type": "code",
   "execution_count": 5,
   "metadata": {},
   "outputs": [
    {
     "data": {
      "image/png": "[encoded data removed]",
      "text/plain": [
       "<Figure size 1000x400 with 2 Axes>"
      ]
     },
     "metadata": {},
     "output_type": "display_data"
    }
   ],
   "source": [
    "fig, ax = plt.subplots(1,2, figsize = (10,4), sharey = True)\n",
    "\n",
    "index = np.random.randint(0,len(normal),2)\n",
    "ax[0].plot(normal.iloc[index[0],:].values, label = f'Normal ECG for candidate {index[0]}', color = 'green')\n",
    "ax[0].legend()\n",
    "ax[0].set_xlim([0,100])\n",
    "ax[1].plot(abnormal.iloc[index[0],:].values, label = f'Abnormal ECG for candidate {index[0]}', color = 'red')\n",
    "ax[1].legend()\n",
    "ax[1].set_xlim([0,100])\n",
    "plt.show()\n",
    "\n"
   ]
  },
  {
   "cell_type": "markdown",
   "metadata": {},
   "source": [
    "From the graph it is becoming clear that abnormal ECGs tend to have more jitters in the graph."
   ]
  },
  {
   "cell_type": "code",
   "execution_count": 6,
   "metadata": {},
   "outputs": [],
   "source": [
    "CLASS_NAMES = [\"Normal\", \"Anomaly\"]\n",
    "\n",
    "normal_df_copy = normal.copy()\n",
    "abnormal_df_copy = abnormal.copy()\n"
   ]
  },
  {
   "cell_type": "code",
   "execution_count": 7,
   "metadata": {},
   "outputs": [],
   "source": [
    "normal_df_copy = normal_df_copy.set_axis(range(1,189), axis =1)\n",
    "abnormal_df_copy = abnormal_df_copy.set_axis(range(1,189), axis =1)\n",
    "normal_df_copy = normal_df_copy.assign(target = CLASS_NAMES[0])\n",
    "abnormal_df_copy = abnormal_df_copy.assign(target = CLASS_NAMES[1])\n",
    "\n",
    "df = pd.concat((normal_df_copy, abnormal_df_copy))"
   ]
  },
  {
   "cell_type": "code",
   "execution_count": 8,
   "metadata": {},
   "outputs": [
    {
     "data": {
      "text/plain": [
       "0         Normal\n",
       "1         Normal\n",
       "2         Normal\n",
       "3         Normal\n",
       "4         Normal\n",
       "          ...   \n",
       "10500    Anomaly\n",
       "10501    Anomaly\n",
       "10502    Anomaly\n",
       "10503    Anomaly\n",
       "10504    Anomaly\n",
       "Name: target, Length: 14550, dtype: object"
      ]
     },
     "execution_count": 8,
     "metadata": {},
     "output_type": "execute_result"
    }
   ],
   "source": [
    "df['target']"
   ]
  },
  {
   "cell_type": "code",
   "execution_count": 9,
   "metadata": {},
   "outputs": [],
   "source": [
    "df.to_csv('joined_ptbd_with_target')"
   ]
  },
  {
   "cell_type": "code",
   "execution_count": 10,
   "metadata": {},
   "outputs": [],
   "source": [
    "X = df.drop(columns = 'target')\n",
    "y = df['target']\n",
    "X_train, X_test, y_train, y_test = train_test_split(X,y, test_size=0.20, random_state=42)"
   ]
  },
  {
   "cell_type": "markdown",
   "metadata": {},
   "source": [
    "# Creating an Autoencoder"
   ]
  },
  {
   "cell_type": "code",
   "execution_count": 11,
   "metadata": {},
   "outputs": [
    {
     "name": "stdout",
     "output_type": "stream",
     "text": [
      "Model: \"auto_encoder\"\n",
      "_________________________________________________________________\n",
      " Layer (type)                Output Shape              Param #   \n",
      "=================================================================\n",
      " sequential (Sequential)     (None, 47, 32)            6816      \n",
      "                                                                 \n",
      " sequential_1 (Sequential)   (None, 188)               2271900   \n",
      "                                                                 \n",
      "=================================================================\n",
      "Total params: 2278716 (8.69 MB)\n",
      "Trainable params: 2278332 (8.69 MB)\n",
      "Non-trainable params: 384 (1.50 KB)\n",
      "_________________________________________________________________\n"
     ]
    }
   ],
   "source": [
    "class AutoEncoder(Model):\n",
    "    def __init__(self, input_dim, latent_dim):\n",
    "        super(AutoEncoder, self).__init__()\n",
    "        self.input_dim = input_dim\n",
    "        self.latent_dim = latent_dim\n",
    "\n",
    "        self.encoder = tf.keras.Sequential([\n",
    "            layers.Input(shape = (input_dim,)),\n",
    "            layers.Reshape((input_dim, 1)),\n",
    "            layers.Conv1D(64,3,strides =1, activation = 'relu', padding=\"same\"),\n",
    "            layers.BatchNormalization(),\n",
    "            layers.MaxPooling1D(2, padding=\"same\"),\n",
    "            layers.Conv1D(latent_dim, 3, strides =1, activation ='relu', padding =\"same\"),\n",
    "            layers.BatchNormalization(),\n",
    "            layers.MaxPooling1D(2, padding=\"same\"),  \n",
    "        ])\n",
    "\n",
    "        self.decoder = tf.keras.Sequential([\n",
    "            layers.Conv1D(latent_dim, 3, strides =1, activation ='relu', padding=\"same\"),\n",
    "            layers.UpSampling1D(2),\n",
    "            layers.BatchNormalization(),\n",
    "            layers.Conv1D(64,3,strides =1, activation = 'relu', padding = \"same\"),\n",
    "            layers.UpSampling1D(2),\n",
    "            layers.BatchNormalization(),\n",
    "            layers.Flatten(),\n",
    "            layers.Dense(input_dim)\n",
    "        ])\n",
    "\n",
    "\n",
    "    def call(self,X):\n",
    "        encoded = self.encoder(X)\n",
    "        decoded = self.decoder(encoded)\n",
    "        return decoded\n",
    "    \n",
    "\n",
    "input_dim = X_train.shape[1]\n",
    "latent_dim = 32\n",
    "\n",
    "model = AutoEncoder(input_dim, latent_dim)\n",
    "model.build((None, input_dim))\n",
    "model.compile(optimizer=tf.keras.optimizers.Adam(learning_rate=0.01), loss='mae')\n",
    "model.summary()"
   ]
  },
  {
   "cell_type": "code",
   "execution_count": 12,
   "metadata": {},
   "outputs": [
    {
     "name": "stdout",
     "output_type": "stream",
     "text": [
      "Epoch 1/55\n",
      "164/164 [==============================] - 19s 95ms/step - loss: 2.1312 - val_loss: 0.3233\n",
      "Epoch 2/55\n",
      "164/164 [==============================] - 16s 97ms/step - loss: 0.4390 - val_loss: 0.1906\n",
      "Epoch 3/55\n",
      "164/164 [==============================] - 21s 130ms/step - loss: 0.1609 - val_loss: 0.0811\n",
      "Epoch 4/55\n",
      "164/164 [==============================] - 16s 100ms/step - loss: 0.0710 - val_loss: 0.0500\n",
      "Epoch 5/55\n",
      "164/164 [==============================] - 19s 116ms/step - loss: 0.0471 - val_loss: 0.0434\n",
      "Epoch 6/55\n",
      "164/164 [==============================] - 22s 133ms/step - loss: 0.0337 - val_loss: 0.0287\n",
      "Epoch 7/55\n",
      "164/164 [==============================] - 22s 134ms/step - loss: 0.0297 - val_loss: 0.0366\n",
      "Epoch 8/55\n",
      "164/164 [==============================] - 17s 106ms/step - loss: 0.0290 - val_loss: 0.0256\n",
      "Epoch 9/55\n",
      "164/164 [==============================] - 19s 115ms/step - loss: 0.0259 - val_loss: 0.0220\n",
      "Epoch 10/55\n",
      "164/164 [==============================] - 19s 113ms/step - loss: 0.0254 - val_loss: 0.0205\n",
      "Epoch 11/55\n",
      "164/164 [==============================] - 16s 100ms/step - loss: 0.0233 - val_loss: 0.0222\n",
      "Epoch 12/55\n",
      "164/164 [==============================] - 16s 96ms/step - loss: 0.0217 - val_loss: 0.0203\n",
      "Epoch 13/55\n",
      "164/164 [==============================] - 16s 95ms/step - loss: 0.0231 - val_loss: 0.0179\n",
      "Epoch 14/55\n",
      "164/164 [==============================] - 16s 96ms/step - loss: 0.0212 - val_loss: 0.0185\n",
      "Epoch 15/55\n",
      "164/164 [==============================] - 16s 96ms/step - loss: 0.0208 - val_loss: 0.0205\n",
      "Epoch 16/55\n",
      "164/164 [==============================] - 16s 96ms/step - loss: 0.0198 - val_loss: 0.0218\n",
      "Epoch 17/55\n",
      "164/164 [==============================] - 16s 99ms/step - loss: 0.0198 - val_loss: 0.0188\n",
      "Epoch 18/55\n",
      "164/164 [==============================] - 16s 96ms/step - loss: 0.0196 - val_loss: 0.0202\n",
      "Epoch 19/55\n",
      "164/164 [==============================] - 16s 96ms/step - loss: 0.0201 - val_loss: 0.0214\n",
      "Epoch 20/55\n",
      "164/164 [==============================] - 16s 97ms/step - loss: 0.0208 - val_loss: 0.0196\n",
      "Epoch 21/55\n",
      "164/164 [==============================] - 16s 97ms/step - loss: 0.0190 - val_loss: 0.0215\n",
      "Epoch 22/55\n",
      "164/164 [==============================] - 16s 96ms/step - loss: 0.0218 - val_loss: 0.0198\n",
      "Epoch 23/55\n",
      "164/164 [==============================] - 16s 96ms/step - loss: 0.0213 - val_loss: 0.0253\n"
     ]
    }
   ],
   "source": [
    "early_stopping = EarlyStopping(patience=10, min_delta=1e-3, monitor=\"val_loss\", restore_best_weights=True)\n",
    "\n",
    "\n",
    "history = model.fit(X_train, X_train, epochs=55, batch_size=64,\n",
    "                    validation_split=0.1, callbacks=[early_stopping])"
   ]
  },
  {
   "cell_type": "markdown",
   "metadata": {},
   "source": []
  },
  {
   "cell_type": "code",
   "execution_count": 17,
   "metadata": {},
   "outputs": [
    {
     "data": {
      "image/png": "[encoded data removed]",
      "text/plain": [
       "<Figure size 640x480 with 1 Axes>"
      ]
     },
     "metadata": {},
     "output_type": "display_data"
    }
   ],
   "source": [
    "plt.plot(history.history['loss'], label = 'Training Loss')\n",
    "plt.plot(history.history['val_loss'], label = 'Validation Loss')\n",
    "plt.legend()\n",
    "plt.xlabel('Epoch')\n",
    "plt.ylabel('Loss')\n",
    "plt.grid()"
   ]
  },
  {
   "cell_type": "markdown",
   "metadata": {},
   "source": [
    "# Evaluation"
   ]
  }
 ],
 "metadata": {
  "kernelspec": {
   "display_name": "Python 3",
   "language": "python",
   "name": "python3"
  },
  "language_info": {
   "codemirror_mode": {
    "name": "ipython",
    "version": 3
   },
   "file_extension": ".py",
   "mimetype": "text/x-python",
   "name": "python",
   "nbconvert_exporter": "python",
   "pygments_lexer": "ipython3",
   "version": "3.9.0"
  }
 },
 "nbformat": 4,
 "nbformat_minor": 2
}
